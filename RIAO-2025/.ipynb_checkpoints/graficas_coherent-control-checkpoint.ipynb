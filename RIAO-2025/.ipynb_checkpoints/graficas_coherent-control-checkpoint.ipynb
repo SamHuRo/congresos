{
 "cells": [
  {
   "cell_type": "code",
   "execution_count": 12,
   "id": "097eb10d-6947-474d-b008-ed756fd95a6b",
   "metadata": {},
   "outputs": [],
   "source": [
    "import os \n",
    "from pathlib import Path\n",
    "import pandas as pd"
   ]
  },
  {
   "cell_type": "code",
   "execution_count": 13,
   "id": "66db760f-5e6a-4193-8485-670151e6bc21",
   "metadata": {},
   "outputs": [
    {
     "name": "stdout",
     "output_type": "stream",
     "text": [
      "C:\\Users\\samhu\\Documents\\Maestria\\RIAO-2025\n"
     ]
    }
   ],
   "source": [
    "# Desde un archivo .py\n",
    "#carpeta_actual = os.path.dirname(os.path.abspath(__file__))\n",
    "# Desde un notebook\n",
    "current_folder = os.getcwd()\n",
    "print(current_folder)"
   ]
  },
  {
   "cell_type": "code",
   "execution_count": 14,
   "id": "31d027a1-6ac6-4807-98aa-edd2e3736010",
   "metadata": {},
   "outputs": [
    {
     "name": "stdout",
     "output_type": "stream",
     "text": [
      "C:\\Users\\samhu\\Documents\\Maestria\\RIAO-2025\\Datos y programas\\20151207_Coherentcontrol_NB16\\20151207_Coherentcontrol_NB16_wg14\n"
     ]
    }
   ],
   "source": [
    "# Ruta de la carpeta de los archivos a analisar\n",
    "folder_path = Path(current_folder, \"Datos y programas\", \n",
    "                    \"20151207_Coherentcontrol_NB16\", \"20151207_Coherentcontrol_NB16_wg14\")\n",
    "print(folder_path)"
   ]
  },
  {
   "cell_type": "code",
   "execution_count": 15,
   "id": "75506d17-ba03-4ff3-a5b9-9584f6baa745",
   "metadata": {},
   "outputs": [],
   "source": [
    "# Obtener solo los archivos .txt\n",
    "txt_files = [f for f in folder_path.iterdir() if f.is_file() and f.suffix == \".txt\"]\n",
    "\n",
    "# Mostrar resultados\n",
    "#for file in txt_files:\n",
    "#    print(file.name)"
   ]
  },
  {
   "cell_type": "markdown",
   "id": "b8af0d63-dca3-4b53-9e41-8edc11c9945c",
   "metadata": {},
   "source": [
    "En los archivos se encuentra el espectro de una nano cavidad que entra en resonancia a una longitud de onda de aproximadamente 1584nm. A continuación, se muestra los archivos que corresponden a cada una de las energías. (NB16 sample)\n",
    "\n",
    "| Potencia    | Archivos    | \n",
    "|-------------|-------------|\n",
    "| 0.1 mW      | 1-26.txt    | \n",
    "| 1mW         | 27-52.txt   |\n",
    "| 2mW         | 53-78.txt   |\n",
    "| 3mW         | 79-104.txt  |\n",
    "| 4mW         | 105-130.txt | \n",
    "| 5mW         | 131-156.txt | \n",
    "| 6mW         | 157-182.txt |\n",
    "| 7mW         | 183-208.txt |\n",
    "| 8mW         | 209-234.txt |\n",
    "| 9mW         | 235-260.txt |\n",
    "| 12mW        | 261-286.txt |  \n",
    "| 15mW        | 287-312.txt |\n",
    "\n",
    "Nota: \n",
    "* En 4.16 mW hay un problema de polarización\n",
    "* \"0.txt\" => es el input spectrum\n"
   ]
  },
  {
   "cell_type": "code",
   "execution_count": 16,
   "id": "e235accd-fec4-46f7-9c25-424642cba88e",
   "metadata": {},
   "outputs": [],
   "source": [
    "dict_power = {\n",
    "    \"power\": [\"input spectrum\", \"0.1 mW\", \"1mW\", \"2mW\", \"3mW\", \"4mW\", \"5mW\", \"6mW\", \"7mW\", \"8mW\", \"9mW\", \"12mW\", \"15mW\"],\n",
    "    \"limits\": {\n",
    "        \"lower\": [1, 27, 53, 79, 105, 131, 157, 183, 209, 235, 261, 287],\n",
    "        \"top\": [26, 52, 78, 104, 130, 156, 182, 208, 234, 260, 286, 312],\n",
    "    }\n",
    "}\n",
    "\n",
    "dict_power[\"limits\"][\"index_pwer\"] = [i for i in range(0, len(dict_power[\"power\"]))]"
   ]
  },
  {
   "cell_type": "code",
   "execution_count": 17,
   "id": "7d70f150-e328-48fb-bcbb-2c5dcd7c9e91",
   "metadata": {},
   "outputs": [
    {
     "data": {
      "text/plain": [
       "[0, 1, 2, 3, 4, 5, 6, 7, 8, 9, 10, 11, 12]"
      ]
     },
     "execution_count": 17,
     "metadata": {},
     "output_type": "execute_result"
    }
   ],
   "source": [
    "dict_power[\"limits\"][\"index_pwer\"]"
   ]
  },
  {
   "cell_type": "code",
   "execution_count": 18,
   "id": "574581ac-1d41-4820-a162-a63ef844a579",
   "metadata": {},
   "outputs": [],
   "source": [
    "dict_df_power = {\n",
    "    \"power\": None,\n",
    "    \"headers\": [],\n",
    "    \"data\": []\n",
    "}"
   ]
  },
  {
   "cell_type": "code",
   "execution_count": 19,
   "id": "6ff8c61b-67db-48f4-94f2-4a838d4d6eb9",
   "metadata": {},
   "outputs": [
    {
     "data": {
      "text/plain": [
       "'input spectrum'"
      ]
     },
     "execution_count": 19,
     "metadata": {},
     "output_type": "execute_result"
    }
   ],
   "source": [
    "dict_power[\"power\"][0]"
   ]
  },
  {
   "cell_type": "code",
   "execution_count": 20,
   "id": "4817ec39-c897-4c8c-8a1d-baea99578ec8",
   "metadata": {},
   "outputs": [],
   "source": [
    "for file in txt_files:\n",
    "    number_file_name = os.path.splitext(os.path.basename(file))[0]\n",
    "    if number_file_name == \"readme\":\n",
    "        break\n",
    "    if int(number_file_name) == 0:\n",
    "        dict_df_power[\"power\"] = dict_power[\"power\"][int(number_file_name)]\n",
    "        with open(file, \"r\", encoding=\"utf-8\") as file:\n",
    "            # Read the content of the file\n",
    "            content = file.read()\n",
    "            # Separete the file content into lines\n",
    "            lines = content.split(\"\\n\")\n",
    "            for line in lines:\n",
    "                # Append the headers to the dictionary\n",
    "                if dict_df_power[\"headers\"] == []:\n",
    "                    columns = line.split(\"\\t\")\n",
    "                    dict_df_power[\"headers\"].append(columns)\n",
    "                else:\n",
    "                    columns = line.split(\"\\t\")\n",
    "                    dict_df_power[\"data\"].append(columns)\n",
    "                "
   ]
  },
  {
   "cell_type": "code",
   "execution_count": 21,
   "id": "be329f47-62c8-4b4f-ac3e-4863e165ee65",
   "metadata": {},
   "outputs": [
    {
     "name": "stdout",
     "output_type": "stream",
     "text": [
      "input spectrum\n"
     ]
    },
    {
     "data": {
      "text/html": [
       "<div>\n",
       "<style scoped>\n",
       "    .dataframe tbody tr th:only-of-type {\n",
       "        vertical-align: middle;\n",
       "    }\n",
       "\n",
       "    .dataframe tbody tr th {\n",
       "        vertical-align: top;\n",
       "    }\n",
       "\n",
       "    .dataframe thead tr th {\n",
       "        text-align: left;\n",
       "    }\n",
       "</style>\n",
       "<table border=\"1\" class=\"dataframe\">\n",
       "  <thead>\n",
       "    <tr>\n",
       "      <th></th>\n",
       "      <th>Wavelength (nm)</th>\n",
       "      <th>Transmission (dBm)</th>\n",
       "      <th>Linear Transmission</th>\n",
       "    </tr>\n",
       "  </thead>\n",
       "  <tbody>\n",
       "    <tr>\n",
       "      <th>0</th>\n",
       "      <td>1574.500000</td>\n",
       "      <td>-210.000000</td>\n",
       "      <td>0.000000</td>\n",
       "    </tr>\n",
       "    <tr>\n",
       "      <th>1</th>\n",
       "      <td>1574.520020</td>\n",
       "      <td>-210.000000</td>\n",
       "      <td>0.000000</td>\n",
       "    </tr>\n",
       "    <tr>\n",
       "      <th>2</th>\n",
       "      <td>1574.540039</td>\n",
       "      <td>-210.000000</td>\n",
       "      <td>0.000000</td>\n",
       "    </tr>\n",
       "    <tr>\n",
       "      <th>3</th>\n",
       "      <td>1574.560059</td>\n",
       "      <td>-210.000000</td>\n",
       "      <td>0.000000</td>\n",
       "    </tr>\n",
       "    <tr>\n",
       "      <th>4</th>\n",
       "      <td>1574.579956</td>\n",
       "      <td>-210.000000</td>\n",
       "      <td>0.000000</td>\n",
       "    </tr>\n",
       "    <tr>\n",
       "      <th>...</th>\n",
       "      <td>...</td>\n",
       "      <td>...</td>\n",
       "      <td>...</td>\n",
       "    </tr>\n",
       "    <tr>\n",
       "      <th>996</th>\n",
       "      <td>1594.420044</td>\n",
       "      <td>-80.099998</td>\n",
       "      <td>0.000000</td>\n",
       "    </tr>\n",
       "    <tr>\n",
       "      <th>997</th>\n",
       "      <td>1594.439941</td>\n",
       "      <td>-210.000000</td>\n",
       "      <td>0.000000</td>\n",
       "    </tr>\n",
       "    <tr>\n",
       "      <th>998</th>\n",
       "      <td>1594.459961</td>\n",
       "      <td>-210.000000</td>\n",
       "      <td>0.000000</td>\n",
       "    </tr>\n",
       "    <tr>\n",
       "      <th>999</th>\n",
       "      <td>1594.479980</td>\n",
       "      <td>-83.959999</td>\n",
       "      <td>0.000000</td>\n",
       "    </tr>\n",
       "    <tr>\n",
       "      <th>1000</th>\n",
       "      <td>1594.500000</td>\n",
       "      <td>-210.000000</td>\n",
       "      <td>0.000000</td>\n",
       "    </tr>\n",
       "  </tbody>\n",
       "</table>\n",
       "<p>1001 rows × 3 columns</p>\n",
       "</div>"
      ],
      "text/plain": [
       "     Wavelength (nm) Transmission (dBm) Linear Transmission\n",
       "0        1574.500000        -210.000000            0.000000\n",
       "1        1574.520020        -210.000000            0.000000\n",
       "2        1574.540039        -210.000000            0.000000\n",
       "3        1574.560059        -210.000000            0.000000\n",
       "4        1574.579956        -210.000000            0.000000\n",
       "...              ...                ...                 ...\n",
       "996      1594.420044         -80.099998            0.000000\n",
       "997      1594.439941        -210.000000            0.000000\n",
       "998      1594.459961        -210.000000            0.000000\n",
       "999      1594.479980         -83.959999            0.000000\n",
       "1000     1594.500000        -210.000000            0.000000\n",
       "\n",
       "[1001 rows x 3 columns]"
      ]
     },
     "execution_count": 21,
     "metadata": {},
     "output_type": "execute_result"
    }
   ],
   "source": [
    "df = pd.DataFrame(data=dict_df_power[\"data\"], columns=dict_df_power[\"headers\"])\n",
    "df = df.dropna()\n",
    "print(dict_df_power[\"power\"])\n",
    "df"
   ]
  },
  {
   "cell_type": "code",
   "execution_count": null,
   "id": "d391a758-b67a-4acc-9dd6-fd5b448b2cf6",
   "metadata": {},
   "outputs": [],
   "source": []
  }
 ],
 "metadata": {
  "kernelspec": {
   "display_name": "Python 3 (ipykernel)",
   "language": "python",
   "name": "python3"
  },
  "language_info": {
   "codemirror_mode": {
    "name": "ipython",
    "version": 3
   },
   "file_extension": ".py",
   "mimetype": "text/x-python",
   "name": "python",
   "nbconvert_exporter": "python",
   "pygments_lexer": "ipython3",
   "version": "3.12.6"
  }
 },
 "nbformat": 4,
 "nbformat_minor": 5
}
