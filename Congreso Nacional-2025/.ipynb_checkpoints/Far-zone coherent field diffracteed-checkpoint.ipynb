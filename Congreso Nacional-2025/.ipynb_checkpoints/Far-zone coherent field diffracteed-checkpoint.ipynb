{
 "cells": [
  {
   "cell_type": "markdown",
   "id": "3704b31c-00ca-43ab-8f3b-c2e93acd0f3f",
   "metadata": {},
   "source": [
    "---\n",
    "<center>\n",
    "\n",
    "# **Far-zone properties of a partially coherent field diffracted by a grating**\n",
    "\n",
    "**Made by:**\n",
    "\n",
    "Samuel Huertas Rojas\n",
    "\n",
    "</center>\n",
    "\n",
    "\n",
    "---"
   ]
  },
  {
   "cell_type": "code",
   "execution_count": 1,
   "id": "7f583232-5587-4d9e-9be5-57888a6cf87e",
   "metadata": {},
   "outputs": [
    {
     "name": "stdout",
     "output_type": "stream",
     "text": [
      "Python 3.12.6\n",
      "NumPy 2.2.4\n",
      "Matplotlib 3.10.1\n",
      "Seaborn 0.13.2\n",
      "Pandas 2.2.3\n"
     ]
    }
   ],
   "source": [
    "# Importar la librerias necesarias\n",
    "import os\n",
    "import numpy as np\n",
    "import matplotlib as mpl\n",
    "import matplotlib.pyplot as plt\n",
    "import seaborn as sns\n",
    "import pandas as pd\n",
    "\n",
    "from itertools import product\n",
    "\n",
    "\n",
    "# Rectificar las versiones de las librerias\n",
    "!python --version\n",
    "print('NumPy', np.__version__)\n",
    "print('Matplotlib', mpl.__version__)\n",
    "print('Seaborn', sns.__version__)\n",
    "print('Pandas', pd.__version__)"
   ]
  },
  {
   "cell_type": "markdown",
   "id": "eb743626-ddea-423b-b105-15bdd389b1ee",
   "metadata": {},
   "source": [
    "# Definición del kernel no-paraxial"
   ]
  },
  {
   "cell_type": "code",
   "execution_count": 2,
   "id": "d264d707-b1ae-43cb-a1dd-06250623ad00",
   "metadata": {},
   "outputs": [],
   "source": [
    "def kernelNoParaxial(\n",
    "    longitud_de_onda, # longitud de onda \n",
    "    distancia_planos, # distancia entre los planos de la rejilla y el detector\n",
    "    coordenada_detector_x, # coordenada x en el plano del dectector\n",
    "    coordenada_detector_y, # coordenada y en el plano del detector\n",
    "    eta_mas_x, # coordenada reducida en el detector\n",
    "    eta_mas_y, # coordenada reducida en el detector\n",
    "    eta_menos_x, # coordenada reducida en el detector\n",
    "    eta_menos_y # coordenada reducida en el detector\n",
    "):\n",
    "    \"\"\"\n",
    "    Función para calcular \n",
    "    Args:\n",
    "    - \n",
    "    Return:\n",
    "    - \n",
    "    \"\"\"\n",
    "    termino1 = (1 / 2*longitud_de_onda**2)\n",
    "    termino2 = (distancia_planos + np.sqrt(distancia_planos**2 + (coordenada_detector_x - eta_mas_x)**2 + (coordenada_detector_y - eta_mas_y)**2))/(distancia_planos**2 + (coordenada_detector_x - eta_mas_x)**2 + (coordenada_detector_y - eta_mas_y)**2)\n",
    "    termino3 = (distancia_planos + np.sqrt(distancia_planos**2 + (coordenada_detector_x - eta_menos_x)**2 + (coordenada_detector_y - eta_menos_y)**2))/(distancia_planos**2 + (coordenada_detector_x - eta_menos_x)**2 + (coordenada_detector_y - eta_menos_y)**2)\n",
    "    termino4 = np.cos((2*np.pi/longitud_de_onda) * (np.sqrt(distancia_planos**2 + (coordenada_detector_x - eta_mas_x)**2 + (coordenada_detector_y - eta_mas_y)**2) - np.sqrt(distancia_planos**2 + (coordenada_detector_x - eta_menos_x)**2 + (coordenada_detector_y - eta_menos_y)**2)))\n",
    "\n",
    "    resultado = termino1 * termino2 * termino3 * termino4\n",
    "\n",
    "    return resultado"
   ]
  },
  {
   "cell_type": "code",
   "execution_count": null,
   "id": "c9582581-94ae-4af9-bdde-f04a8c2ef353",
   "metadata": {},
   "outputs": [],
   "source": []
  }
 ],
 "metadata": {
  "kernelspec": {
   "display_name": "Python 3 (ipykernel)",
   "language": "python",
   "name": "python3"
  },
  "language_info": {
   "codemirror_mode": {
    "name": "ipython",
    "version": 3
   },
   "file_extension": ".py",
   "mimetype": "text/x-python",
   "name": "python",
   "nbconvert_exporter": "python",
   "pygments_lexer": "ipython3",
   "version": "3.12.6"
  }
 },
 "nbformat": 4,
 "nbformat_minor": 5
}
